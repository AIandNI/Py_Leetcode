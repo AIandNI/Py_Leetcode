{
 "cells": [
  {
   "cell_type": "code",
   "execution_count": 1,
   "id": "25f36e53",
   "metadata": {},
   "outputs": [
    {
     "name": "stdout",
     "output_type": "stream",
     "text": [
      "Pramee I love you so much :)\n"
     ]
    }
   ],
   "source": [
    "print('Pramee I love you so much :)')"
   ]
  },
  {
   "cell_type": "code",
   "execution_count": 3,
   "id": "a3ecfbab",
   "metadata": {},
   "outputs": [
    {
     "name": "stdout",
     "output_type": "stream",
     "text": [
      "enter a number: 784\n",
      "it is a perfect square\n"
     ]
    }
   ],
   "source": [
    "import math\n",
    "\n",
    "def is_perfect_square(x):\n",
    "    sqrt_value = math.sqrt(x)\n",
    "    return int(sqrt_value) ** 2 == x\n",
    "\n",
    "number = int(input(\"enter a number: \"))\n",
    "if is_perfect_square(number):\n",
    "    print(\"it is a perfect square\")\n",
    "else:\n",
    "    print(\"it is not a perfect square\")\n",
    "    \n",
    "    "
   ]
  },
  {
   "cell_type": "code",
   "execution_count": 6,
   "id": "c10d4d48",
   "metadata": {},
   "outputs": [
    {
     "name": "stdout",
     "output_type": "stream",
     "text": [
      "3\n"
     ]
    }
   ],
   "source": [
    "import math\n",
    "\n",
    "def coutsq(a,b):\n",
    "    print (math.floor(math.sqrt(b)) - math.ceil(math.sqrt(a)) + 1)\n",
    "    \n",
    "a=9\n",
    "b=25\n",
    "coutsq(a,b)"
   ]
  },
  {
   "cell_type": "code",
   "execution_count": null,
   "id": "ce29fe76",
   "metadata": {},
   "outputs": [],
   "source": []
  }
 ],
 "metadata": {
  "kernelspec": {
   "display_name": "Python 3 (ipykernel)",
   "language": "python",
   "name": "python3"
  },
  "language_info": {
   "codemirror_mode": {
    "name": "ipython",
    "version": 3
   },
   "file_extension": ".py",
   "mimetype": "text/x-python",
   "name": "python",
   "nbconvert_exporter": "python",
   "pygments_lexer": "ipython3",
   "version": "3.9.7"
  }
 },
 "nbformat": 4,
 "nbformat_minor": 5
}
